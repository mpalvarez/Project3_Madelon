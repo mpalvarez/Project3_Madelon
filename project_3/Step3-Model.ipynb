{
 "cells": [
  {
   "cell_type": "code",
   "execution_count": 2,
   "metadata": {},
   "outputs": [],
   "source": [
    "% run __init__.py\n",
    "% matplotlib inline"
   ]
  },
  {
   "cell_type": "code",
   "execution_count": null,
   "metadata": {},
   "outputs": [],
   "source": [
    "con = pg2.connect(host='34.211.227.227',\n",
    "                   dbname='postgres',\n",
    "                   user='postgres')\n",
    "cur = con.cursor(cursor_factory=RealDictCursor)\n"
   ]
  },
  {
   "cell_type": "code",
   "execution_count": null,
   "metadata": {},
   "outputs": [],
   "source": [
    "cur.execute('SELECT _id,  feat_028,  feat_048,  feat_064, feat_105, feat_128, feat_153, feat_241, feat_281, feat_318, feat_336, feat_\\\n",
    "            feat_338, feat_378, feat_433,\\\n",
    "            feat_442, feat_451, feat_453, feat_455, feat_472, feat_475, feat_493, target FROM madelon ORDER BY random() LIMIT 100000;')"
   ]
  },
  {
   "cell_type": "code",
   "execution_count": null,
   "metadata": {},
   "outputs": [],
   "source": [
    "data = cur.fetchall()"
   ]
  },
  {
   "cell_type": "code",
   "execution_count": null,
   "metadata": {},
   "outputs": [],
   "source": [
    "con.close()"
   ]
  },
  {
   "cell_type": "code",
   "execution_count": null,
   "metadata": {},
   "outputs": [],
   "source": [
    "Mad_data = pd.DataFrame(data)\n",
    "Mad_data.to_pickle('../Mad_feat_data.p')"
   ]
  },
  {
   "cell_type": "code",
   "execution_count": null,
   "metadata": {},
   "outputs": [],
   "source": [
    "output = open('Mad__feat_data', 'wb')\n",
    "pickle.dump(mydict, output)\n",
    "output.close()"
   ]
  },
  {
   "cell_type": "code",
   "execution_count": 3,
   "metadata": {},
   "outputs": [],
   "source": [
    "Madelon = pd.read_pickle('./data/Mad_feat_data.p',)"
   ]
  },
  {
   "cell_type": "code",
   "execution_count": 4,
   "metadata": {},
   "outputs": [
    {
     "data": {
      "text/html": [
       "<div>\n",
       "<table border=\"1\" class=\"dataframe\">\n",
       "  <thead>\n",
       "    <tr style=\"text-align: right;\">\n",
       "      <th></th>\n",
       "      <th>_id</th>\n",
       "      <th>feat_257</th>\n",
       "      <th>feat_269</th>\n",
       "      <th>feat_308</th>\n",
       "      <th>feat_315</th>\n",
       "      <th>feat_336</th>\n",
       "      <th>feat_341</th>\n",
       "      <th>feat_395</th>\n",
       "      <th>feat_504</th>\n",
       "      <th>feat_526</th>\n",
       "      <th>...</th>\n",
       "      <th>feat_701</th>\n",
       "      <th>feat_724</th>\n",
       "      <th>feat_736</th>\n",
       "      <th>feat_769</th>\n",
       "      <th>feat_808</th>\n",
       "      <th>feat_829</th>\n",
       "      <th>feat_867</th>\n",
       "      <th>feat_920</th>\n",
       "      <th>feat_956</th>\n",
       "      <th>target</th>\n",
       "    </tr>\n",
       "  </thead>\n",
       "  <tbody>\n",
       "    <tr>\n",
       "      <th>0</th>\n",
       "      <td>170866</td>\n",
       "      <td>0.252421</td>\n",
       "      <td>3.059553</td>\n",
       "      <td>0.549202</td>\n",
       "      <td>1.505400</td>\n",
       "      <td>0.558945</td>\n",
       "      <td>2.649557</td>\n",
       "      <td>0.918241</td>\n",
       "      <td>0.773806</td>\n",
       "      <td>0.260477</td>\n",
       "      <td>...</td>\n",
       "      <td>-2.694026</td>\n",
       "      <td>-1.714143</td>\n",
       "      <td>0.688705</td>\n",
       "      <td>-0.780640</td>\n",
       "      <td>-0.162773</td>\n",
       "      <td>2.598932</td>\n",
       "      <td>1.171268</td>\n",
       "      <td>-2.489237</td>\n",
       "      <td>0.226046</td>\n",
       "      <td>0</td>\n",
       "    </tr>\n",
       "    <tr>\n",
       "      <th>1</th>\n",
       "      <td>90554</td>\n",
       "      <td>1.353174</td>\n",
       "      <td>0.260890</td>\n",
       "      <td>-2.233127</td>\n",
       "      <td>1.034565</td>\n",
       "      <td>1.351185</td>\n",
       "      <td>0.452291</td>\n",
       "      <td>-0.229178</td>\n",
       "      <td>1.502204</td>\n",
       "      <td>1.815267</td>\n",
       "      <td>...</td>\n",
       "      <td>-1.656428</td>\n",
       "      <td>1.125663</td>\n",
       "      <td>1.378048</td>\n",
       "      <td>1.882807</td>\n",
       "      <td>-1.209783</td>\n",
       "      <td>3.086035</td>\n",
       "      <td>0.069695</td>\n",
       "      <td>-1.371033</td>\n",
       "      <td>0.345675</td>\n",
       "      <td>0</td>\n",
       "    </tr>\n",
       "    <tr>\n",
       "      <th>2</th>\n",
       "      <td>44817</td>\n",
       "      <td>-0.778791</td>\n",
       "      <td>-4.338013</td>\n",
       "      <td>-1.926604</td>\n",
       "      <td>-1.470901</td>\n",
       "      <td>-0.409953</td>\n",
       "      <td>-3.527393</td>\n",
       "      <td>-0.402595</td>\n",
       "      <td>-0.275500</td>\n",
       "      <td>-0.217137</td>\n",
       "      <td>...</td>\n",
       "      <td>3.651437</td>\n",
       "      <td>1.867085</td>\n",
       "      <td>-0.056123</td>\n",
       "      <td>1.451549</td>\n",
       "      <td>0.366022</td>\n",
       "      <td>-3.556293</td>\n",
       "      <td>-1.848013</td>\n",
       "      <td>3.627442</td>\n",
       "      <td>-0.543230</td>\n",
       "      <td>0</td>\n",
       "    </tr>\n",
       "    <tr>\n",
       "      <th>3</th>\n",
       "      <td>13966</td>\n",
       "      <td>-1.311862</td>\n",
       "      <td>1.530704</td>\n",
       "      <td>0.921769</td>\n",
       "      <td>1.067135</td>\n",
       "      <td>-1.778740</td>\n",
       "      <td>-0.604283</td>\n",
       "      <td>-0.020201</td>\n",
       "      <td>-1.120061</td>\n",
       "      <td>0.361306</td>\n",
       "      <td>...</td>\n",
       "      <td>-1.633790</td>\n",
       "      <td>-1.029503</td>\n",
       "      <td>-0.609389</td>\n",
       "      <td>-0.366483</td>\n",
       "      <td>0.820188</td>\n",
       "      <td>-1.474820</td>\n",
       "      <td>1.439293</td>\n",
       "      <td>-0.415038</td>\n",
       "      <td>-1.506730</td>\n",
       "      <td>1</td>\n",
       "    </tr>\n",
       "    <tr>\n",
       "      <th>4</th>\n",
       "      <td>189542</td>\n",
       "      <td>1.972786</td>\n",
       "      <td>1.694196</td>\n",
       "      <td>-3.190931</td>\n",
       "      <td>0.102184</td>\n",
       "      <td>4.204283</td>\n",
       "      <td>1.477417</td>\n",
       "      <td>0.429671</td>\n",
       "      <td>-2.264772</td>\n",
       "      <td>1.107840</td>\n",
       "      <td>...</td>\n",
       "      <td>-0.449825</td>\n",
       "      <td>2.311717</td>\n",
       "      <td>3.197871</td>\n",
       "      <td>-1.011152</td>\n",
       "      <td>-3.580152</td>\n",
       "      <td>1.401875</td>\n",
       "      <td>-2.381935</td>\n",
       "      <td>1.252636</td>\n",
       "      <td>0.583428</td>\n",
       "      <td>1</td>\n",
       "    </tr>\n",
       "  </tbody>\n",
       "</table>\n",
       "<p>5 rows × 22 columns</p>\n",
       "</div>"
      ],
      "text/plain": [
       "      _id  feat_257  feat_269  feat_308  feat_315  feat_336  feat_341  \\\n",
       "0  170866  0.252421  3.059553  0.549202  1.505400  0.558945  2.649557   \n",
       "1   90554  1.353174  0.260890 -2.233127  1.034565  1.351185  0.452291   \n",
       "2   44817 -0.778791 -4.338013 -1.926604 -1.470901 -0.409953 -3.527393   \n",
       "3   13966 -1.311862  1.530704  0.921769  1.067135 -1.778740 -0.604283   \n",
       "4  189542  1.972786  1.694196 -3.190931  0.102184  4.204283  1.477417   \n",
       "\n",
       "   feat_395  feat_504  feat_526   ...    feat_701  feat_724  feat_736  \\\n",
       "0  0.918241  0.773806  0.260477   ...   -2.694026 -1.714143  0.688705   \n",
       "1 -0.229178  1.502204  1.815267   ...   -1.656428  1.125663  1.378048   \n",
       "2 -0.402595 -0.275500 -0.217137   ...    3.651437  1.867085 -0.056123   \n",
       "3 -0.020201 -1.120061  0.361306   ...   -1.633790 -1.029503 -0.609389   \n",
       "4  0.429671 -2.264772  1.107840   ...   -0.449825  2.311717  3.197871   \n",
       "\n",
       "   feat_769  feat_808  feat_829  feat_867  feat_920  feat_956  target  \n",
       "0 -0.780640 -0.162773  2.598932  1.171268 -2.489237  0.226046       0  \n",
       "1  1.882807 -1.209783  3.086035  0.069695 -1.371033  0.345675       0  \n",
       "2  1.451549  0.366022 -3.556293 -1.848013  3.627442 -0.543230       0  \n",
       "3 -0.366483  0.820188 -1.474820  1.439293 -0.415038 -1.506730       1  \n",
       "4 -1.011152 -3.580152  1.401875 -2.381935  1.252636  0.583428       1  \n",
       "\n",
       "[5 rows x 22 columns]"
      ]
     },
     "execution_count": 4,
     "metadata": {},
     "output_type": "execute_result"
    }
   ],
   "source": [
    "Madelon.head()"
   ]
  },
  {
   "cell_type": "code",
   "execution_count": 5,
   "metadata": {},
   "outputs": [],
   "source": [
    "Madelon = Madelon.set_index('_id')\n",
    "Madelon = Madelon.reset_index(drop = True)"
   ]
  },
  {
   "cell_type": "code",
   "execution_count": 6,
   "metadata": {},
   "outputs": [
    {
     "data": {
      "text/html": [
       "<div>\n",
       "<table border=\"1\" class=\"dataframe\">\n",
       "  <thead>\n",
       "    <tr style=\"text-align: right;\">\n",
       "      <th></th>\n",
       "      <th>feat_257</th>\n",
       "      <th>feat_269</th>\n",
       "      <th>feat_308</th>\n",
       "      <th>feat_315</th>\n",
       "      <th>feat_336</th>\n",
       "      <th>feat_341</th>\n",
       "      <th>feat_395</th>\n",
       "      <th>feat_504</th>\n",
       "      <th>feat_526</th>\n",
       "      <th>feat_639</th>\n",
       "      <th>...</th>\n",
       "      <th>feat_701</th>\n",
       "      <th>feat_724</th>\n",
       "      <th>feat_736</th>\n",
       "      <th>feat_769</th>\n",
       "      <th>feat_808</th>\n",
       "      <th>feat_829</th>\n",
       "      <th>feat_867</th>\n",
       "      <th>feat_920</th>\n",
       "      <th>feat_956</th>\n",
       "      <th>target</th>\n",
       "    </tr>\n",
       "  </thead>\n",
       "  <tbody>\n",
       "    <tr>\n",
       "      <th>0</th>\n",
       "      <td>0.252421</td>\n",
       "      <td>3.059553</td>\n",
       "      <td>0.549202</td>\n",
       "      <td>1.505400</td>\n",
       "      <td>0.558945</td>\n",
       "      <td>2.649557</td>\n",
       "      <td>0.918241</td>\n",
       "      <td>0.773806</td>\n",
       "      <td>0.260477</td>\n",
       "      <td>0.291553</td>\n",
       "      <td>...</td>\n",
       "      <td>-2.694026</td>\n",
       "      <td>-1.714143</td>\n",
       "      <td>0.688705</td>\n",
       "      <td>-0.780640</td>\n",
       "      <td>-0.162773</td>\n",
       "      <td>2.598932</td>\n",
       "      <td>1.171268</td>\n",
       "      <td>-2.489237</td>\n",
       "      <td>0.226046</td>\n",
       "      <td>0</td>\n",
       "    </tr>\n",
       "    <tr>\n",
       "      <th>1</th>\n",
       "      <td>1.353174</td>\n",
       "      <td>0.260890</td>\n",
       "      <td>-2.233127</td>\n",
       "      <td>1.034565</td>\n",
       "      <td>1.351185</td>\n",
       "      <td>0.452291</td>\n",
       "      <td>-0.229178</td>\n",
       "      <td>1.502204</td>\n",
       "      <td>1.815267</td>\n",
       "      <td>0.758823</td>\n",
       "      <td>...</td>\n",
       "      <td>-1.656428</td>\n",
       "      <td>1.125663</td>\n",
       "      <td>1.378048</td>\n",
       "      <td>1.882807</td>\n",
       "      <td>-1.209783</td>\n",
       "      <td>3.086035</td>\n",
       "      <td>0.069695</td>\n",
       "      <td>-1.371033</td>\n",
       "      <td>0.345675</td>\n",
       "      <td>0</td>\n",
       "    </tr>\n",
       "    <tr>\n",
       "      <th>2</th>\n",
       "      <td>-0.778791</td>\n",
       "      <td>-4.338013</td>\n",
       "      <td>-1.926604</td>\n",
       "      <td>-1.470901</td>\n",
       "      <td>-0.409953</td>\n",
       "      <td>-3.527393</td>\n",
       "      <td>-0.402595</td>\n",
       "      <td>-0.275500</td>\n",
       "      <td>-0.217137</td>\n",
       "      <td>-0.298457</td>\n",
       "      <td>...</td>\n",
       "      <td>3.651437</td>\n",
       "      <td>1.867085</td>\n",
       "      <td>-0.056123</td>\n",
       "      <td>1.451549</td>\n",
       "      <td>0.366022</td>\n",
       "      <td>-3.556293</td>\n",
       "      <td>-1.848013</td>\n",
       "      <td>3.627442</td>\n",
       "      <td>-0.543230</td>\n",
       "      <td>0</td>\n",
       "    </tr>\n",
       "    <tr>\n",
       "      <th>3</th>\n",
       "      <td>-1.311862</td>\n",
       "      <td>1.530704</td>\n",
       "      <td>0.921769</td>\n",
       "      <td>1.067135</td>\n",
       "      <td>-1.778740</td>\n",
       "      <td>-0.604283</td>\n",
       "      <td>-0.020201</td>\n",
       "      <td>-1.120061</td>\n",
       "      <td>0.361306</td>\n",
       "      <td>-1.790795</td>\n",
       "      <td>...</td>\n",
       "      <td>-1.633790</td>\n",
       "      <td>-1.029503</td>\n",
       "      <td>-0.609389</td>\n",
       "      <td>-0.366483</td>\n",
       "      <td>0.820188</td>\n",
       "      <td>-1.474820</td>\n",
       "      <td>1.439293</td>\n",
       "      <td>-0.415038</td>\n",
       "      <td>-1.506730</td>\n",
       "      <td>1</td>\n",
       "    </tr>\n",
       "    <tr>\n",
       "      <th>4</th>\n",
       "      <td>1.972786</td>\n",
       "      <td>1.694196</td>\n",
       "      <td>-3.190931</td>\n",
       "      <td>0.102184</td>\n",
       "      <td>4.204283</td>\n",
       "      <td>1.477417</td>\n",
       "      <td>0.429671</td>\n",
       "      <td>-2.264772</td>\n",
       "      <td>1.107840</td>\n",
       "      <td>0.606318</td>\n",
       "      <td>...</td>\n",
       "      <td>-0.449825</td>\n",
       "      <td>2.311717</td>\n",
       "      <td>3.197871</td>\n",
       "      <td>-1.011152</td>\n",
       "      <td>-3.580152</td>\n",
       "      <td>1.401875</td>\n",
       "      <td>-2.381935</td>\n",
       "      <td>1.252636</td>\n",
       "      <td>0.583428</td>\n",
       "      <td>1</td>\n",
       "    </tr>\n",
       "  </tbody>\n",
       "</table>\n",
       "<p>5 rows × 21 columns</p>\n",
       "</div>"
      ],
      "text/plain": [
       "   feat_257  feat_269  feat_308  feat_315  feat_336  feat_341  feat_395  \\\n",
       "0  0.252421  3.059553  0.549202  1.505400  0.558945  2.649557  0.918241   \n",
       "1  1.353174  0.260890 -2.233127  1.034565  1.351185  0.452291 -0.229178   \n",
       "2 -0.778791 -4.338013 -1.926604 -1.470901 -0.409953 -3.527393 -0.402595   \n",
       "3 -1.311862  1.530704  0.921769  1.067135 -1.778740 -0.604283 -0.020201   \n",
       "4  1.972786  1.694196 -3.190931  0.102184  4.204283  1.477417  0.429671   \n",
       "\n",
       "   feat_504  feat_526  feat_639   ...    feat_701  feat_724  feat_736  \\\n",
       "0  0.773806  0.260477  0.291553   ...   -2.694026 -1.714143  0.688705   \n",
       "1  1.502204  1.815267  0.758823   ...   -1.656428  1.125663  1.378048   \n",
       "2 -0.275500 -0.217137 -0.298457   ...    3.651437  1.867085 -0.056123   \n",
       "3 -1.120061  0.361306 -1.790795   ...   -1.633790 -1.029503 -0.609389   \n",
       "4 -2.264772  1.107840  0.606318   ...   -0.449825  2.311717  3.197871   \n",
       "\n",
       "   feat_769  feat_808  feat_829  feat_867  feat_920  feat_956  target  \n",
       "0 -0.780640 -0.162773  2.598932  1.171268 -2.489237  0.226046       0  \n",
       "1  1.882807 -1.209783  3.086035  0.069695 -1.371033  0.345675       0  \n",
       "2  1.451549  0.366022 -3.556293 -1.848013  3.627442 -0.543230       0  \n",
       "3 -0.366483  0.820188 -1.474820  1.439293 -0.415038 -1.506730       1  \n",
       "4 -1.011152 -3.580152  1.401875 -2.381935  1.252636  0.583428       1  \n",
       "\n",
       "[5 rows x 21 columns]"
      ]
     },
     "execution_count": 6,
     "metadata": {},
     "output_type": "execute_result"
    }
   ],
   "source": [
    "Madelon.head()"
   ]
  },
  {
   "cell_type": "code",
   "execution_count": 7,
   "metadata": {},
   "outputs": [],
   "source": [
    "X = Madelon.drop('target', axis = 1)\n",
    "y = Madelon['target']"
   ]
  },
  {
   "cell_type": "code",
   "execution_count": 8,
   "metadata": {},
   "outputs": [
    {
     "data": {
      "text/plain": [
       "<matplotlib.axes._subplots.AxesSubplot at 0x7fd1d892e0f0>"
      ]
     },
     "execution_count": 8,
     "metadata": {},
     "output_type": "execute_result"
    },
    {
     "data": {
      "image/png": "[encoded data removed]",
      "text/plain": [
       "<matplotlib.figure.Figure at 0x7fd2146c3cc0>"
      ]
     },
     "metadata": {},
     "output_type": "display_data"
    }
   ],
   "source": [
    "sns.heatmap(X.corr())"
   ]
  },
  {
   "cell_type": "code",
   "execution_count": 9,
   "metadata": {},
   "outputs": [],
   "source": [
    "def fit_benchmark_model(X, y, model, name):\n",
    "    #train test split\n",
    "    X_train, X_test, y_train, y_test = train_test_split(X, y, random_state = 42)\n",
    "    #scale the data\n",
    "    scaler = StandardScaler()\n",
    "    # Fit_transform\n",
    "    X_train_scaled = scaler.fit_transform(X_train)\n",
    "    # transform\n",
    "    X_test_scaled = scaler.transform(X_test)\n",
    "    \n",
    "    model.fit(X_train_scaled, y_train)\n",
    "    return (name, model.score(X_train_scaled, y_train), model.score(X_test_scaled, y_test))"
   ]
  },
  {
   "cell_type": "code",
   "execution_count": 10,
   "metadata": {},
   "outputs": [
    {
     "data": {
      "text/plain": [
       "('Logistic Regression', 0.6057866666666667, 0.60236000000000001)"
      ]
     },
     "execution_count": 10,
     "metadata": {},
     "output_type": "execute_result"
    }
   ],
   "source": [
    "fit_benchmark_model(X, y, LogisticRegression(C = 100), 'Logistic Regression')\n"
   ]
  },
  {
   "cell_type": "code",
   "execution_count": 11,
   "metadata": {},
   "outputs": [
    {
     "data": {
      "text/plain": [
       "('KNN', 0.89532, 0.84719999999999995)"
      ]
     },
     "execution_count": 11,
     "metadata": {},
     "output_type": "execute_result"
    }
   ],
   "source": [
    "fit_benchmark_model(X, y, KNeighborsClassifier(), 'KNN')\n"
   ]
  },
  {
   "cell_type": "code",
   "execution_count": 12,
   "metadata": {},
   "outputs": [
    {
     "data": {
      "text/plain": [
       "('Decision tree', 1.0, 0.78664000000000001)"
      ]
     },
     "execution_count": 12,
     "metadata": {},
     "output_type": "execute_result"
    }
   ],
   "source": [
    "fit_benchmark_model(X, y, DecisionTreeClassifier(), 'Decision tree')\n"
   ]
  },
  {
   "cell_type": "code",
   "execution_count": 13,
   "metadata": {},
   "outputs": [
    {
     "data": {
      "text/plain": [
       "PCA(copy=True, iterated_power='auto', n_components=5, random_state=None,\n",
       "  svd_solver='auto', tol=0.0, whiten=False)"
      ]
     },
     "execution_count": 13,
     "metadata": {},
     "output_type": "execute_result"
    }
   ],
   "source": [
    "pca = PCA(n_components=5)\n",
    "pca.fit(X)"
   ]
  },
  {
   "cell_type": "code",
   "execution_count": 14,
   "metadata": {},
   "outputs": [
    {
     "data": {
      "text/plain": [
       "array([ 0.36623852,  0.31958935,  0.13661047,  0.10214676,  0.0754149 ])"
      ]
     },
     "execution_count": 14,
     "metadata": {},
     "output_type": "execute_result"
    }
   ],
   "source": [
    "pca.explained_variance_ratio_\n"
   ]
  },
  {
   "cell_type": "code",
   "execution_count": 15,
   "metadata": {},
   "outputs": [
    {
     "data": {
      "text/plain": [
       "1.0000000000000002"
      ]
     },
     "execution_count": 15,
     "metadata": {},
     "output_type": "execute_result"
    }
   ],
   "source": [
    "sum(pca.explained_variance_ratio_) #can account for all variance"
   ]
  },
  {
   "cell_type": "code",
   "execution_count": 20,
   "metadata": {},
   "outputs": [],
   "source": [
    "Pca2 = pca.transform(X)\n",
    "Pca2 = pd.DataFrame(Pca2)"
   ]
  },
  {
   "cell_type": "code",
   "execution_count": 22,
   "metadata": {},
   "outputs": [
    {
     "data": {
      "text/html": [
       "<div>\n",
       "<table border=\"1\" class=\"dataframe\">\n",
       "  <thead>\n",
       "    <tr style=\"text-align: right;\">\n",
       "      <th></th>\n",
       "      <th>0</th>\n",
       "      <th>1</th>\n",
       "      <th>2</th>\n",
       "      <th>3</th>\n",
       "      <th>4</th>\n",
       "    </tr>\n",
       "  </thead>\n",
       "  <tbody>\n",
       "    <tr>\n",
       "      <th>0</th>\n",
       "      <td>-2.891259</td>\n",
       "      <td>5.337793</td>\n",
       "      <td>-0.947714</td>\n",
       "      <td>2.929660</td>\n",
       "      <td>0.957752</td>\n",
       "    </tr>\n",
       "    <tr>\n",
       "      <th>1</th>\n",
       "      <td>-1.767752</td>\n",
       "      <td>0.109046</td>\n",
       "      <td>-3.089020</td>\n",
       "      <td>4.319057</td>\n",
       "      <td>-3.437743</td>\n",
       "    </tr>\n",
       "    <tr>\n",
       "      <th>2</th>\n",
       "      <td>3.317885</td>\n",
       "      <td>-6.877330</td>\n",
       "      <td>1.646832</td>\n",
       "      <td>-4.005892</td>\n",
       "      <td>-3.684275</td>\n",
       "    </tr>\n",
       "    <tr>\n",
       "      <th>3</th>\n",
       "      <td>3.452949</td>\n",
       "      <td>3.510341</td>\n",
       "      <td>1.016122</td>\n",
       "      <td>-0.401200</td>\n",
       "      <td>1.229671</td>\n",
       "    </tr>\n",
       "    <tr>\n",
       "      <th>4</th>\n",
       "      <td>-3.375817</td>\n",
       "      <td>-0.796536</td>\n",
       "      <td>-8.114928</td>\n",
       "      <td>-1.756004</td>\n",
       "      <td>-0.526231</td>\n",
       "    </tr>\n",
       "  </tbody>\n",
       "</table>\n",
       "</div>"
      ],
      "text/plain": [
       "          0         1         2         3         4\n",
       "0 -2.891259  5.337793 -0.947714  2.929660  0.957752\n",
       "1 -1.767752  0.109046 -3.089020  4.319057 -3.437743\n",
       "2  3.317885 -6.877330  1.646832 -4.005892 -3.684275\n",
       "3  3.452949  3.510341  1.016122 -0.401200  1.229671\n",
       "4 -3.375817 -0.796536 -8.114928 -1.756004 -0.526231"
      ]
     },
     "execution_count": 22,
     "metadata": {},
     "output_type": "execute_result"
    }
   ],
   "source": [
    "Pca2.head()"
   ]
  },
  {
   "cell_type": "code",
   "execution_count": 30,
   "metadata": {},
   "outputs": [],
   "source": [
    "Important = ['feat_257', 'feat_308', 'feat_341', 'feat_504', 'feat_526'\\\n",
    "             , 'feat_681', 'feat_736', 'feat_769', 'feat_808', 'feat_829', 'feat_920']\n",
    "X= X[Important]"
   ]
  },
  {
   "cell_type": "code",
   "execution_count": 34,
   "metadata": {},
   "outputs": [],
   "source": [
    "X_train, X_test, y_train, y_test = train_test_split(X,y, random_state=42)"
   ]
  },
  {
   "cell_type": "markdown",
   "metadata": {},
   "source": [
    "### KNN"
   ]
  },
  {
   "cell_type": "code",
   "execution_count": 35,
   "metadata": {},
   "outputs": [
    {
     "data": {
      "text/plain": [
       "KNeighborsClassifier(algorithm='auto', leaf_size=30, metric='minkowski',\n",
       "           metric_params=None, n_jobs=1, n_neighbors=9, p=2,\n",
       "           weights='uniform')"
      ]
     },
     "execution_count": 35,
     "metadata": {},
     "output_type": "execute_result"
    }
   ],
   "source": [
    "\n",
    "knc_params = {\n",
    "        'n_neighbors':[3,4,5,6,7,8,9,10]\n",
    "    }\n",
    "\n",
    "knc_gs = GridSearchCV(KNeighborsClassifier(), param_grid= knc_params, cv=5)\n",
    "knc_gs.fit(X_train, y_train)\n",
    "knc_gs.best_estimator_"
   ]
  },
  {
   "cell_type": "code",
   "execution_count": 36,
   "metadata": {},
   "outputs": [
    {
     "data": {
      "text/plain": [
       "(0.88104000000000005, 0.84940000000000004)"
      ]
     },
     "execution_count": 36,
     "metadata": {},
     "output_type": "execute_result"
    }
   ],
   "source": [
    "knc_gs.score(X_train, y_train), knc_gs.score(X_test, y_test)"
   ]
  },
  {
   "cell_type": "markdown",
   "metadata": {},
   "source": [
    "### Random Forests"
   ]
  },
  {
   "cell_type": "code",
   "execution_count": 51,
   "metadata": {},
   "outputs": [
    {
     "data": {
      "text/plain": [
       "{'max_features': 'auto', 'n_estimators': 100}"
      ]
     },
     "execution_count": 51,
     "metadata": {},
     "output_type": "execute_result"
    }
   ],
   "source": [
    "Rf_params = {\n",
    "    'n_estimators':[100],\n",
    "    'max_features':['auto']\n",
    "}\n",
    "\n",
    "Rf_gs = GridSearchCV(RandomForestClassifier(), param_grid=Rf_params, cv=5,n_jobs=-1)\n",
    "Rf_gs.fit(X_train, y_train)\n",
    "Rf_gs.best_params_"
   ]
  },
  {
   "cell_type": "code",
   "execution_count": 50,
   "metadata": {},
   "outputs": [
    {
     "ename": "AttributeError",
     "evalue": "'GridSearchCV' object has no attribute 'best_estimator_'",
     "output_type": "error",
     "traceback": [
      "\u001b[0;31m---------------------------------------------------------------------------\u001b[0m",
      "\u001b[0;31mAttributeError\u001b[0m                            Traceback (most recent call last)",
      "\u001b[0;32m<ipython-input-50-99b7cd8bf053>\u001b[0m in \u001b[0;36m<module>\u001b[0;34m()\u001b[0m\n\u001b[0;32m----> 1\u001b[0;31m \u001b[0mRf_gs\u001b[0m\u001b[0;34m.\u001b[0m\u001b[0mscore\u001b[0m\u001b[0;34m(\u001b[0m\u001b[0mX_test\u001b[0m\u001b[0;34m,\u001b[0m \u001b[0my_test\u001b[0m\u001b[0;34m)\u001b[0m\u001b[0;34m\u001b[0m\u001b[0m\n\u001b[0m",
      "\u001b[0;32m/opt/conda/lib/python3.6/site-packages/sklearn/model_selection/_search.py\u001b[0m in \u001b[0;36mscore\u001b[0;34m(self, X, y)\u001b[0m\n\u001b[1;32m    420\u001b[0m                              \u001b[0;34m\"and the estimator doesn't provide one %s\"\u001b[0m\u001b[0;34m\u001b[0m\u001b[0m\n\u001b[1;32m    421\u001b[0m                              % self.best_estimator_)\n\u001b[0;32m--> 422\u001b[0;31m         \u001b[0;32mreturn\u001b[0m \u001b[0mself\u001b[0m\u001b[0;34m.\u001b[0m\u001b[0mscorer_\u001b[0m\u001b[0;34m(\u001b[0m\u001b[0mself\u001b[0m\u001b[0;34m.\u001b[0m\u001b[0mbest_estimator_\u001b[0m\u001b[0;34m,\u001b[0m \u001b[0mX\u001b[0m\u001b[0;34m,\u001b[0m \u001b[0my\u001b[0m\u001b[0;34m)\u001b[0m\u001b[0;34m\u001b[0m\u001b[0m\n\u001b[0m\u001b[1;32m    423\u001b[0m \u001b[0;34m\u001b[0m\u001b[0m\n\u001b[1;32m    424\u001b[0m     \u001b[0;32mdef\u001b[0m \u001b[0m_check_is_fitted\u001b[0m\u001b[0;34m(\u001b[0m\u001b[0mself\u001b[0m\u001b[0;34m,\u001b[0m \u001b[0mmethod_name\u001b[0m\u001b[0;34m)\u001b[0m\u001b[0;34m:\u001b[0m\u001b[0;34m\u001b[0m\u001b[0m\n",
      "\u001b[0;31mAttributeError\u001b[0m: 'GridSearchCV' object has no attribute 'best_estimator_'"
     ]
    }
   ],
   "source": [
    " Rf_gs.score(X_test, y_test)"
   ]
  },
  {
   "cell_type": "markdown",
   "metadata": {},
   "source": [
    "### PCA'd GS"
   ]
  },
  {
   "cell_type": "code",
   "execution_count": 52,
   "metadata": {},
   "outputs": [],
   "source": [
    "X_train, X_test, y_train, y_test = train_test_split(Pca2, y, random_state = 42)"
   ]
  },
  {
   "cell_type": "code",
   "execution_count": 53,
   "metadata": {},
   "outputs": [
    {
     "data": {
      "text/plain": [
       "KNeighborsClassifier(algorithm='auto', leaf_size=30, metric='minkowski',\n",
       "           metric_params=None, n_jobs=1, n_neighbors=7, p=2,\n",
       "           weights='uniform')"
      ]
     },
     "execution_count": 53,
     "metadata": {},
     "output_type": "execute_result"
    }
   ],
   "source": [
    "knc_params = {\n",
    "        'n_neighbors':[3,4,5,6,7,8,9,10]\n",
    "    }\n",
    "\n",
    "knc_gs = GridSearchCV(KNeighborsClassifier(), param_grid= knc_params, cv=5)\n",
    "knc_gs.fit(X_train, y_train)\n",
    "knc_gs.best_estimator_"
   ]
  },
  {
   "cell_type": "code",
   "execution_count": 54,
   "metadata": {},
   "outputs": [
    {
     "data": {
      "text/plain": [
       "(0.88533333333333331, 0.84855999999999998)"
      ]
     },
     "execution_count": 54,
     "metadata": {},
     "output_type": "execute_result"
    }
   ],
   "source": [
    "knc_gs.score(X_train, y_train), knc_gs.score(X_test, y_test)"
   ]
  },
  {
   "cell_type": "code",
   "execution_count": 55,
   "metadata": {},
   "outputs": [
    {
     "data": {
      "text/plain": [
       "{'max_features': 'auto', 'n_estimators': 100}"
      ]
     },
     "execution_count": 55,
     "metadata": {},
     "output_type": "execute_result"
    }
   ],
   "source": [
    "Rf_params = {\n",
    "    'n_estimators':[100],\n",
    "    'max_features':['auto']\n",
    "}\n",
    "\n",
    "Rf_gs = GridSearchCV(RandomForestClassifier(), param_grid=Rf_params, cv=5,n_jobs=-1)\n",
    "Rf_gs.fit(X_train, y_train)\n",
    "Rf_gs.best_params_"
   ]
  },
  {
   "cell_type": "code",
   "execution_count": 59,
   "metadata": {},
   "outputs": [
    {
     "data": {
      "text/plain": [
       "(1.0, 0.85152000000000005)"
      ]
     },
     "execution_count": 59,
     "metadata": {},
     "output_type": "execute_result"
    }
   ],
   "source": [
    " Rf_gs.score(X_train, y_train),  Rf_gs.score(X_test, y_test)"
   ]
  },
  {
   "cell_type": "code",
   "execution_count": null,
   "metadata": {},
   "outputs": [],
   "source": []
  }
 ],
 "metadata": {
  "kernelspec": {
   "display_name": "Python 3",
   "language": "python",
   "name": "python3"
  },
  "language_info": {
   "codemirror_mode": {
    "name": "ipython",
    "version": 3
   },
   "file_extension": ".py",
   "mimetype": "text/x-python",
   "name": "python",
   "nbconvert_exporter": "python",
   "pygments_lexer": "ipython3",
   "version": "3.6.2"
  }
 },
 "nbformat": 4,
 "nbformat_minor": 2
}
