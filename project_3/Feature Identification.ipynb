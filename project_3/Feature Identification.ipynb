{
 "cells": [
  {
   "cell_type": "code",
   "execution_count": 21,
   "metadata": {},
   "outputs": [],
   "source": [
    "%run __init__.py\n",
    "% matplotlib inline"
   ]
  },
  {
   "cell_type": "code",
   "execution_count": null,
   "metadata": {},
   "outputs": [],
   "source": [
    "Madelon = pd.read_pickle('./data/Mad_data.p',)"
   ]
  },
  {
   "cell_type": "markdown",
   "metadata": {},
   "source": [
    "### Getting the Data"
   ]
  },
  {
   "cell_type": "code",
   "execution_count": null,
   "metadata": {},
   "outputs": [],
   "source": [
    "Madelon.head()"
   ]
  },
  {
   "cell_type": "code",
   "execution_count": null,
   "metadata": {},
   "outputs": [],
   "source": [
    "Madelon.columns = [list(range(0,1002))]"
   ]
  },
  {
   "cell_type": "code",
   "execution_count": null,
   "metadata": {},
   "outputs": [],
   "source": [
    "Madelon.head()"
   ]
  },
  {
   "cell_type": "markdown",
   "metadata": {},
   "source": [
    "### Sampling\n",
    "\n",
    "- size: 1500"
   ]
  },
  {
   "cell_type": "code",
   "execution_count": 19,
   "metadata": {},
   "outputs": [
    {
     "data": {
      "text/plain": [
       "(1500, 1002)"
      ]
     },
     "execution_count": 19,
     "metadata": {},
     "output_type": "execute_result"
    }
   ],
   "source": [
    "Mad_samp = Madelon.sample(n = 1500, random_state=42)\n",
    "Mad_samp.shape"
   ]
  },
  {
   "cell_type": "markdown",
   "metadata": {},
   "source": [
    "### Feature Reduction\n",
    "\n",
    "- getting rid of the noise with R2 scores"
   ]
  },
  {
   "cell_type": "code",
   "execution_count": null,
   "metadata": {},
   "outputs": [],
   "source": [
    "\n",
    "X = Madelon.drop(1000, axis = 1)\n",
    "y = Madelon[1000]\n",
    "\n"
   ]
  },
  {
   "cell_type": "code",
   "execution_count": null,
   "metadata": {},
   "outputs": [],
   "source": [
    "def calculate_r_2_for_feature(data, feature, model):\n",
    "    new_data = data.drop(feature, axis=1)\n",
    "\n",
    "    X_train, X_test, y_train, y_test = train_test_split(new_data,data[feature],test_size=0.25, random_state = 42)\n",
    "\n",
    "    scaler = StandardScaler()\n",
    "    scaler.fit(X_train, y_train)\n",
    "    X_tr_sc = scaler.transform(X_train, y_train)\n",
    "    X_ts_sc = scaler.transform(X_test, y_test)\n",
    "    \n",
    "    regressor = model()\n",
    "    regressor.fit(X_train, y_train)\n",
    "\n",
    "    score = regressor.score(X_test, y_test)\n",
    "    return score"
   ]
  },
  {
   "cell_type": "code",
   "execution_count": null,
   "metadata": {},
   "outputs": [],
   "source": [
    "scores = []\n",
    "\n",
    "for i in range(Mad_samp.shape[1] - 1):\n",
    "    scores.append(calculate_r_2_for_feature(Mad_samp.drop(1000, axis = 1), Mad_samp.columns[i], KNeighborsRegressor))\n",
    "    \n"
   ]
  },
  {
   "cell_type": "code",
   "execution_count": 13,
   "metadata": {},
   "outputs": [
    {
     "data": {
      "text/plain": [
       "(1500, 1002)"
      ]
     },
     "execution_count": 13,
     "metadata": {},
     "output_type": "execute_result"
    }
   ],
   "source": [
    "feature_score = list(zip(Mad_samp.columns, scores))\n",
    "Non_noise = Mad_samp[Mad_samp[1] > .05]\n",
    "Mad_samp.shape"
   ]
  },
  {
   "cell_type": "code",
   "execution_count": 14,
   "metadata": {},
   "outputs": [
    {
     "data": {
      "text/plain": [
       "733464"
      ]
     },
     "execution_count": 14,
     "metadata": {},
     "output_type": "execute_result"
    }
   ],
   "source": [
    "Non_noise.size"
   ]
  },
  {
   "cell_type": "code",
   "execution_count": 15,
   "metadata": {},
   "outputs": [],
   "source": [
    " Non_noise = Non_noise.index"
   ]
  },
  {
   "cell_type": "code",
   "execution_count": 20,
   "metadata": {},
   "outputs": [
    {
     "data": {
      "text/plain": [
       "Int64Index([ 555,   70,  803, 1498, 3858, 1185,  594, 3590, 1703, 2540,\n",
       "            ...\n",
       "            1775, 1048, 2821, 1831, 1459, 1611,  237, 2340, 1133, 2718],\n",
       "           dtype='int64', length=732)"
      ]
     },
     "execution_count": 20,
     "metadata": {},
     "output_type": "execute_result"
    }
   ],
   "source": [
    "Non_noise"
   ]
  },
  {
   "cell_type": "markdown",
   "metadata": {},
   "source": [
    "Something is clearly wrong with the data I got from the database or something I have done to it, sadly I may not have time to fix and it will surely be a negative impact on results: Will just use the features from the UCI dataset\n"
   ]
  },
  {
   "cell_type": "code",
   "execution_count": null,
   "metadata": {},
   "outputs": [],
   "source": []
  }
 ],
 "metadata": {
  "kernelspec": {
   "display_name": "Python 3",
   "language": "python",
   "name": "python3"
  }
 },
 "nbformat": 4,
 "nbformat_minor": 2
}
